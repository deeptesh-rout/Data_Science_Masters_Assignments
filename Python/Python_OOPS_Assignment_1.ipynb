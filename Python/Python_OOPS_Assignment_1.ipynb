{
 "cells": [
  {
   "cell_type": "markdown",
   "id": "f2fbd998-f97c-45e0-abfa-2e196e9236d6",
   "metadata": {},
   "source": [
    "Q1, Create a vehicle class with an init method having instance variables as name_of_vehicle, max_speed\n",
    "and average_of_vehicle."
   ]
  },
  {
   "cell_type": "code",
   "execution_count": 12,
   "id": "a2e904c8-cd22-458a-b8bf-707ef5dd2261",
   "metadata": {},
   "outputs": [],
   "source": [
    "class vehicle:\n",
    "    \n",
    "    def __init__(self,name_of_vehicle,max_speed,average_of_vehicle):\n",
    "        \n",
    "        self.name_of_vehicle = name_of_vehicle\n",
    "        self.max_speed = max_speed\n",
    "        self.average_of_vehicle = average_of_vehicle\n",
    "        \n",
    "    def return_vehicle_details(self):\n",
    "        return self.name_of_vehicle,self.max_speed,self.average_of_vehicle\n",
    "        \n",
    "    "
   ]
  },
  {
   "cell_type": "code",
   "execution_count": 13,
   "id": "dd7ae63f-0dfb-452f-b060-a13bb97fed55",
   "metadata": {},
   "outputs": [],
   "source": [
    "car = vehicle(\"lamborgini\", 500 ,40 )"
   ]
  },
  {
   "cell_type": "code",
   "execution_count": 14,
   "id": "c07f331c-3a82-470a-ba5c-2e1f1ce52fd3",
   "metadata": {},
   "outputs": [
    {
     "data": {
      "text/plain": [
       "('lamborgini', 500, 40)"
      ]
     },
     "execution_count": 14,
     "metadata": {},
     "output_type": "execute_result"
    }
   ],
   "source": [
    "car.return_vehicle_details()"
   ]
  },
  {
   "cell_type": "code",
   "execution_count": 15,
   "id": "339dc36c-b283-4d07-a51c-b2248d6ef4ca",
   "metadata": {},
   "outputs": [
    {
     "data": {
      "text/plain": [
       "500"
      ]
     },
     "execution_count": 15,
     "metadata": {},
     "output_type": "execute_result"
    }
   ],
   "source": [
    "car.max_speed"
   ]
  },
  {
   "cell_type": "markdown",
   "id": "663e90d2-525a-40b4-8f92-7d49db794b35",
   "metadata": {},
   "source": [
    "Q2. Create a child class car from the vehicle class created in Que 1, which will inherit the vehicle class.\n",
    "Create a method named seating_capacity which takes capacity as an argument and returns the name of\n",
    "the vehicle and its seating capacity."
   ]
  },
  {
   "cell_type": "code",
   "execution_count": 16,
   "id": "e1d59de8-2c5a-4de6-a0bc-f4514ef8d702",
   "metadata": {},
   "outputs": [],
   "source": [
    "class vehicle:\n",
    "    \n",
    "    def __init__(self,name,color):\n",
    "        self.name = name\n",
    "        self.color = color\n",
    "              \n",
    "    def return_vehicle_details(self):\n",
    "        return self.name, self.color\n",
    "    \n",
    "class Car(vehicle) :\n",
    "    \n",
    "    def seating_capacity(self, capacity):\n",
    "        return \"{} has a seating capacity of {}\".format(self.name, capacity)   "
   ]
  },
  {
   "cell_type": "code",
   "execution_count": 17,
   "id": "65f6f47f-9749-4112-a34c-f872efe07c2e",
   "metadata": {},
   "outputs": [
    {
     "data": {
      "text/plain": [
       "('lamborgini', 'red')"
      ]
     },
     "execution_count": 17,
     "metadata": {},
     "output_type": "execute_result"
    }
   ],
   "source": [
    "car = Car(\"lamborgini\",\"red\")\n",
    "car.return_vehicle_details()"
   ]
  },
  {
   "cell_type": "code",
   "execution_count": 18,
   "id": "277b50f3-5f40-4c32-844e-d334db1c24d2",
   "metadata": {},
   "outputs": [
    {
     "data": {
      "text/plain": [
       "'lamborgini has a seating capacity of 5'"
      ]
     },
     "execution_count": 18,
     "metadata": {},
     "output_type": "execute_result"
    }
   ],
   "source": [
    "car.seating_capacity(5)\n"
   ]
  },
  {
   "cell_type": "markdown",
   "id": "d3f88ad0-0ae7-422b-9e4b-309668ab7ba5",
   "metadata": {},
   "source": [
    "Q3. What is multiple inheritance? Write a python code to demonstrate multiple inheritance.\n",
    "\n",
    "Ans:- Multiple inheritance is a feature of that allows a class to inherit from more than one parent class.\n",
    "In multiple inheritance, the child class inherits all the properties and methods of its parent classes."
   ]
  },
  {
   "cell_type": "code",
   "execution_count": 19,
   "id": "64b5e160-8cf7-406c-a882-9073657ad2dd",
   "metadata": {},
   "outputs": [],
   "source": [
    "class Animal:\n",
    "    def __init__(self, name):\n",
    "        self.name = name\n",
    "        \n",
    "    def speak(self):\n",
    "        return \"I am an animal\""
   ]
  },
  {
   "cell_type": "code",
   "execution_count": 20,
   "id": "7a10ae80-9349-43db-a885-844645d2b9d0",
   "metadata": {},
   "outputs": [],
   "source": [
    "class Dog(Animal):\n",
    "    def bar(self):\n",
    "        return \"Woof\""
   ]
  },
  {
   "cell_type": "code",
   "execution_count": 21,
   "id": "c24ab47e-de57-4c66-81ff-29a810f93d76",
   "metadata": {},
   "outputs": [],
   "source": [
    "class Cat(Animal):\n",
    "    def meow(self):\n",
    "        return\"Meow\""
   ]
  },
  {
   "cell_type": "code",
   "execution_count": 22,
   "id": "dabedbd6-0e39-403d-8fa0-e3676008c1be",
   "metadata": {},
   "outputs": [],
   "source": [
    "class MultiAnimal(Dog, Cat):\n",
    "    def __init__(self, name):\n",
    "        super().__init__(name)"
   ]
  },
  {
   "cell_type": "code",
   "execution_count": 23,
   "id": "d4b0b681-c438-4fbc-9765-26072ee38d5f",
   "metadata": {},
   "outputs": [
    {
     "data": {
      "text/plain": [
       "'Meow'"
      ]
     },
     "execution_count": 23,
     "metadata": {},
     "output_type": "execute_result"
    }
   ],
   "source": [
    "multi_animal = MultiAnimal(\"MultiAnimal\")\n",
    "multi_animal.speak()\n",
    "multi_animal.meow()"
   ]
  },
  {
   "cell_type": "markdown",
   "id": "57e6f2a5-6524-4419-87da-95a77a0a1448",
   "metadata": {},
   "source": [
    "Q4. What are getter and setter in python? Create a class and create a getter and a setter method in this\n",
    "class.\n",
    "\n",
    "Ans:- using getters and setters in object-oriented programs is to ensure data encapsulation. private variables cannot be accessed directly or modified by external user."
   ]
  },
  {
   "cell_type": "code",
   "execution_count": 29,
   "id": "d82f9ccd-52c3-4e83-84ff-1dcac5486a0f",
   "metadata": {},
   "outputs": [],
   "source": [
    "class person:\n",
    "    \n",
    "    def __init__(self,name,age):\n",
    "        self._name = name\n",
    "        self._age = age\n",
    "    \n",
    "    def get_name(self):\n",
    "        return (self._name)\n",
    "        \n",
    "    def set_name(self, new_name):\n",
    "        self._name = new_name\n",
    "\n",
    "    def get_age(self):\n",
    "        return self._age\n",
    "\n",
    "    def set_age(self, new_age):\n",
    "        if new_age >= 0:\n",
    "            self._age = new_age\n",
    "        else:\n",
    "            print(\"Age cannot be negative.\")\n",
    "        \n",
    "        "
   ]
  },
  {
   "cell_type": "code",
   "execution_count": 30,
   "id": "32327769-b664-48f1-95ae-12e190a18f42",
   "metadata": {},
   "outputs": [],
   "source": [
    "person = person(\"ganesh\", 22)"
   ]
  },
  {
   "cell_type": "code",
   "execution_count": 31,
   "id": "496c2250-fdf9-4f06-a91c-1b64db79db21",
   "metadata": {},
   "outputs": [
    {
     "data": {
      "text/plain": [
       "'ganesh'"
      ]
     },
     "execution_count": 31,
     "metadata": {},
     "output_type": "execute_result"
    }
   ],
   "source": [
    "person.get_name()"
   ]
  },
  {
   "cell_type": "code",
   "execution_count": 32,
   "id": "4c8ce830-1107-4b3a-a3d1-3e123b8c45dc",
   "metadata": {},
   "outputs": [
    {
     "data": {
      "text/plain": [
       "22"
      ]
     },
     "execution_count": 32,
     "metadata": {},
     "output_type": "execute_result"
    }
   ],
   "source": [
    "person.get_age()"
   ]
  },
  {
   "cell_type": "code",
   "execution_count": 33,
   "id": "c85a0233-f26b-48c1-b6a9-07da257abdb9",
   "metadata": {},
   "outputs": [],
   "source": [
    "person.set_age(20)"
   ]
  },
  {
   "cell_type": "code",
   "execution_count": 34,
   "id": "0188a4cd-03f9-4ae9-988c-6277494c6df2",
   "metadata": {},
   "outputs": [
    {
     "data": {
      "text/plain": [
       "20"
      ]
     },
     "execution_count": 34,
     "metadata": {},
     "output_type": "execute_result"
    }
   ],
   "source": [
    "person.get_age()"
   ]
  },
  {
   "cell_type": "code",
   "execution_count": 35,
   "id": "b4b0e2a9-b780-4781-987b-f54878a0ea0f",
   "metadata": {},
   "outputs": [
    {
     "name": "stdout",
     "output_type": "stream",
     "text": [
      "Age cannot be negative.\n"
     ]
    }
   ],
   "source": [
    "person.set_age(-20)"
   ]
  },
  {
   "cell_type": "markdown",
   "id": "1dcd405d-44da-49c3-aa6b-09b9198af4eb",
   "metadata": {},
   "source": [
    "Q5.What is method overriding in python? Write a python code to demonstrate method overriding."
   ]
  },
  {
   "cell_type": "markdown",
   "id": "7de617be-a72a-4f06-8d59-efa368fd897a",
   "metadata": {},
   "source": [
    "Ans:- . When a child class provides the specific implementation of the method that is already provided by the parent class, it is known as method overriding"
   ]
  },
  {
   "cell_type": "code",
   "execution_count": 36,
   "id": "d209afe6-8815-4460-b86e-a51bdac1f8e8",
   "metadata": {},
   "outputs": [],
   "source": [
    "class parent:\n",
    "    \n",
    "    def test_parent(self):\n",
    "        print(\"calling parent method\")\n",
    "\n",
    "class child(parent):\n",
    "    \n",
    "    def test_child(self):\n",
    "        print(\"calling child method\")"
   ]
  },
  {
   "cell_type": "code",
   "execution_count": 37,
   "id": "c71f7e31-a1d0-40e6-856d-aebc180fb055",
   "metadata": {},
   "outputs": [],
   "source": [
    "c = child()"
   ]
  },
  {
   "cell_type": "code",
   "execution_count": 38,
   "id": "0c13475e-bb30-41c1-8d6f-45ac52e537b1",
   "metadata": {},
   "outputs": [
    {
     "name": "stdout",
     "output_type": "stream",
     "text": [
      "calling child method\n"
     ]
    }
   ],
   "source": [
    "c.test_child()"
   ]
  },
  {
   "cell_type": "code",
   "execution_count": 39,
   "id": "d0a0973c-b73b-4612-8869-30dd5168aabe",
   "metadata": {},
   "outputs": [
    {
     "name": "stdout",
     "output_type": "stream",
     "text": [
      "calling parent method\n"
     ]
    }
   ],
   "source": [
    "c.test_parent()"
   ]
  },
  {
   "cell_type": "code",
   "execution_count": null,
   "id": "180c114b-6451-4a93-89cb-0ab0ec521dae",
   "metadata": {},
   "outputs": [],
   "source": []
  }
 ],
 "metadata": {
  "kernelspec": {
   "display_name": "Python 3 (ipykernel)",
   "language": "python",
   "name": "python3"
  },
  "language_info": {
   "codemirror_mode": {
    "name": "ipython",
    "version": 3
   },
   "file_extension": ".py",
   "mimetype": "text/x-python",
   "name": "python",
   "nbconvert_exporter": "python",
   "pygments_lexer": "ipython3",
   "version": "3.10.8"
  }
 },
 "nbformat": 4,
 "nbformat_minor": 5
}

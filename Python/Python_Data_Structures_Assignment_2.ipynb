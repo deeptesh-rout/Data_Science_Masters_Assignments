{
 "cells": [
  {
   "cell_type": "markdown",
   "id": "d81c7f69",
   "metadata": {},
   "source": [
    "Q1. How do you comment code in Python? What are the different types of comments?"
   ]
  },
  {
   "cell_type": "code",
   "execution_count": null,
   "id": "62e1f188",
   "metadata": {},
   "outputs": [],
   "source": [
    "#In Python, you can write comments using the '#' symbol. Anything after the '#' symbol on a line is considered a comment and is ignored by the Python interpreter.\n",
    "#1.Single-line comments: These comments are used to add explanations or notes within a single line of code. They start with the '#' symbol and extend until the end of the line.\n",
    "#Multi-line comments: Although Python doesn't have built-in multi-line comment syntax like some other languages (e.g., /* */ in C/C++), you can achieve multi-line comments by using triple quotes (''' or \"\"\"). Anything within triple quotes is treated as a string literal and ignored by the interpreter.\n",
    "#we can also use triple quotes as a docstring, which is used to document modules, classes, functions, or methods. While docstrings serve a similar purpose to comments, they are accessible through Python's built-in help() function and can provide documentation for your code."
   ]
  },
  {
   "cell_type": "markdown",
   "id": "41cf9816",
   "metadata": {},
   "source": [
    "Q2. What are variables in Python? How do you declare and assign values to variables?"
   ]
  },
  {
   "cell_type": "code",
   "execution_count": null,
   "id": "7146c379",
   "metadata": {},
   "outputs": [],
   "source": [
    "#In Python, variables are used to store data values. They act as containers for storing different types of data, such as numbers, strings, lists, or more complex data structures like dictionaries or objects. Variables in Python do not require explicit declaration to reserve memory space. The declaration happens automatically when a value is assigned to a variable.\n",
    "# Variable declaration and assignment\n",
    "variable_name = value\n",
    "\n",
    "# Examples\n",
    "x = 5         # Assigning an integer value to a variable named 'x'\n",
    "name = \"John\" # Assigning a string value to a variable named 'name'\n",
    "pi = 3.14     # Assigning a float value to a variable named 'pi'\n",
    "\n",
    "# Multiple assignments\n",
    "a, b, c = 1, 2, 3  # Assigning multiple values to multiple variables in a single line\n",
    "\n",
    "# Variable reassignment\n",
    "x = 10        # x is reassigned with a new value"
   ]
  },
  {
   "cell_type": "markdown",
   "id": "7efae799",
   "metadata": {},
   "source": [
    "Q.3 How do you convert one data type to another in Python?"
   ]
  },
  {
   "cell_type": "code",
   "execution_count": null,
   "id": "646d6d09",
   "metadata": {},
   "outputs": [],
   "source": [
    "#In Python, you can convert one data type to another using type conversion functions or constructors. \n",
    "#1.Implicit Type Conversion: Python automatically converts one data type to another if it makes sense. For example, adding an integer to a float will result in a float.\n",
    "#2.Explicit Type Conversion (Type Casting): You can explicitly convert data types using type conversion functions or constructors. These methods allow you to convert data types explicitly, which is useful when you want to be specific about the conversion.\n",
    "\n",
    "int(): Converts a value to an integer.\n",
    "float(): Converts a value to a float.\n",
    "str(): Converts a value to a string.\n",
    "bool(): Converts a value to a boolean.\n",
    "    \n",
    "#3.Using constructor functions: For some data types, you can use constructor functions directly to convert values. For example, list(), tuple(), dict(), etc.\n",
    "# Using constructor functions for conversion\n",
    "my_list = list((1, 2, 3))  # Convert a tuple to a list\n",
    "print(my_list)            # Output: [1, 2, 3]\n",
    "\n",
    "my_tuple = tuple([4, 5, 6])  # Convert a list to a tuple\n",
    "print(my_tuple)             # Output: (4, 5, 6)\n"
   ]
  },
  {
   "cell_type": "markdown",
   "id": "8603174b",
   "metadata": {},
   "source": [
    "Q4. How do you write and execute a Python script from the command line? "
   ]
  },
  {
   "cell_type": "code",
   "execution_count": null,
   "id": "ba792cd1",
   "metadata": {},
   "outputs": [],
   "source": [
    "#Write Your Python Script: Create a text file with your Python code. Save it with a \".py\" extension.\n",
    "\n",
    "#Open Command Prompt or Terminal: Go to the directory where your Python script is saved.\n",
    "\n",
    "#Execute the Script: Type python (or python3 on some systems) followed by the name of your script file and press Enter.\n",
    "\n",
    "#View the Output: The script will run, and any output will be displayed in the command prompt or terminal window."
   ]
  },
  {
   "cell_type": "markdown",
   "id": "4a86b377",
   "metadata": {},
   "source": [
    "Q5.Given a list my_list = [1,2,3,4,5], write the code to slice the list and obtain the sub-list [2, 3]."
   ]
  },
  {
   "cell_type": "code",
   "execution_count": 1,
   "id": "25e27813",
   "metadata": {},
   "outputs": [
    {
     "name": "stdout",
     "output_type": "stream",
     "text": [
      "[2, 3]\n"
     ]
    }
   ],
   "source": [
    "my_list = [1, 2, 3, 4, 5]\n",
    "\n",
    "# Slicing to obtain the sub-list [2, 3]\n",
    "sub_list = my_list[1:3]\n",
    "\n",
    "print(sub_list) "
   ]
  },
  {
   "cell_type": "markdown",
   "id": "4b4c770e",
   "metadata": {},
   "source": [
    "Q6. What is a complex number in mathematics, and how is it represented in Python?"
   ]
  },
  {
   "cell_type": "code",
   "execution_count": null,
   "id": "896660a3",
   "metadata": {},
   "outputs": [],
   "source": [
    "#Complex numbers are used to represent quantities that have both a real and an imaginary component, such as electrical impedance, quantum mechanics, signal processing, and more.\n",
    "#In Python, complex numbers are represented using the complex() constructor or by using the notation a + bj, where a represents the real part and b represents the imaginary part. The imaginary unit is denoted by j in Python instead of i.\n",
    "# Using the complex() constructor\n",
    "z1 = complex(2, 3)  # 2 + 3i\n",
    "z2 = complex(-1, 5)  # -1 + 5i\n",
    "\n",
    "# Using the notation a + bj\n",
    "z3 = 1 + 2j  # 1 + 2i\n",
    "z4 = -3 - 4j  # -3 - 4i\n",
    "\n",
    "print(z1)  # Output: (2+3j)\n",
    "print(z2)  # Output: (-1+5j)\n",
    "print(z3)  # Output: (1+2j)\n",
    "print(z4)  # Output: (-3-4j)\n"
   ]
  },
  {
   "cell_type": "markdown",
   "id": "6cf4fff2",
   "metadata": {},
   "source": [
    "Q7. What is the correct way to declare a variable named age and assign the value 25 to it?"
   ]
  },
  {
   "cell_type": "code",
   "execution_count": 3,
   "id": "c0fbe129",
   "metadata": {},
   "outputs": [],
   "source": [
    "#The correct way to declare a variable named age and assign the value 25 to it in Python is as follows:\n",
    "age = 25"
   ]
  },
  {
   "cell_type": "markdown",
   "id": "b77ced2c",
   "metadata": {},
   "source": [
    "Q8. Declare a variable named price and assign the value 9.99 to it. What data type does this variable\n",
    "belong to?"
   ]
  },
  {
   "cell_type": "code",
   "execution_count": null,
   "id": "d9e108f2",
   "metadata": {},
   "outputs": [],
   "source": [
    "#When you declare a variable named price and assign the value 9.99 to it in Python, it belongs to the data type called float.\n",
    "price = 9.99"
   ]
  },
  {
   "cell_type": "markdown",
   "id": "1a10376d",
   "metadata": {},
   "source": [
    "Q9. Create a variable named name and assign your full name to it as a string. How would you print the\n",
    "value of this variable?"
   ]
  },
  {
   "cell_type": "code",
   "execution_count": 4,
   "id": "76217dbc",
   "metadata": {},
   "outputs": [
    {
     "name": "stdout",
     "output_type": "stream",
     "text": [
      "Prathamesh Jagtap\n"
     ]
    }
   ],
   "source": [
    "name = \"Prathamesh Jagtap\"\n",
    "print(name)"
   ]
  },
  {
   "cell_type": "markdown",
   "id": "ad3be181",
   "metadata": {},
   "source": [
    "Q10. Given the string \"Hello, World!\", extract the substring \"World\"."
   ]
  },
  {
   "cell_type": "code",
   "execution_count": 5,
   "id": "4c0d08ea",
   "metadata": {},
   "outputs": [
    {
     "name": "stdout",
     "output_type": "stream",
     "text": [
      "World\n"
     ]
    }
   ],
   "source": [
    "original_string = \"Hello, World!\"\n",
    "substring = original_string[7:12]\n",
    "print(substring)"
   ]
  },
  {
   "cell_type": "markdown",
   "id": "eb113c99",
   "metadata": {},
   "source": [
    "Q11. Create a variable named \"is_student\" and assign it a boolean value indicating whether you are\n",
    "currently a student or not."
   ]
  },
  {
   "cell_type": "code",
   "execution_count": null,
   "id": "6016117d",
   "metadata": {},
   "outputs": [],
   "source": [
    "is_student = True  # If you are currently a student\n",
    "is_student = False  # If you are not currently a student"
   ]
  }
 ],
 "metadata": {
  "kernelspec": {
   "display_name": "Python 3 (ipykernel)",
   "language": "python",
   "name": "python3"
  },
  "language_info": {
   "codemirror_mode": {
    "name": "ipython",
    "version": 3
   },
   "file_extension": ".py",
   "mimetype": "text/x-python",
   "name": "python",
   "nbconvert_exporter": "python",
   "pygments_lexer": "ipython3",
   "version": "3.11.5"
  }
 },
 "nbformat": 4,
 "nbformat_minor": 5
}

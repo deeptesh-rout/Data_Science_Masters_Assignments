{
 "cells": [
  {
   "cell_type": "markdown",
   "id": "2b54c7cd-0edb-407c-9949-11c067de7dfa",
   "metadata": {},
   "source": [
    "1. Create a python program to sort the given list of tuples based on integer value using a \n",
    "         lambda function. \n",
    "         [('Sachin Tendulkar', 34357), ('Ricky Ponting', 27483), ('Jack Kallis', 25534), ('Virat Kohli', 24936)]"
   ]
  },
  {
   "cell_type": "code",
   "execution_count": 2,
   "id": "635c1963-1251-441f-bba7-4512a79fd4e6",
   "metadata": {},
   "outputs": [
    {
     "name": "stdout",
     "output_type": "stream",
     "text": [
      "[('Sachin Tendulkar', 34357), ('Ricky Ponting', 27483), ('Jack Kallis', 25534), ('Virat Kohli', 24936)]\n"
     ]
    }
   ],
   "source": [
    "players = [('Sachin Tendulkar', 34357), ('Ricky Ponting', 27483), ('Jack Kallis', 25534), ('Virat Kohli', 24936)]\n",
    "\n",
    "sorted_players = sorted(players, key=lambda x: x[1], reverse=True)\n",
    "\n",
    "print(sorted_players)"
   ]
  },
  {
   "cell_type": "markdown",
   "id": "9cb5d05c-8b67-45c1-a328-e4c8712b733f",
   "metadata": {},
   "source": [
    "2.Write a Python Program to find the squares of all the numbers in the given list of integers using lambda and map functions.  [1, 2, 3, 4, 5, 6, 7, 8, 9, 10]"
   ]
  },
  {
   "cell_type": "code",
   "execution_count": 3,
   "id": "ad3b3468-b9ca-4ebb-9d56-f75e73af42e3",
   "metadata": {},
   "outputs": [
    {
     "name": "stdout",
     "output_type": "stream",
     "text": [
      "[1, 4, 9, 16, 25, 36, 49, 64, 81, 100]\n"
     ]
    }
   ],
   "source": [
    "numbers = [1, 2, 3, 4, 5, 6, 7, 8, 9, 10]\n",
    "\n",
    "squared_numbers = list(map(lambda x: x**2, numbers))\n",
    "\n",
    "print(squared_numbers)"
   ]
  },
  {
   "cell_type": "markdown",
   "id": "5e3b0dd0-81d4-4dd2-bdde-b3e5959f2784",
   "metadata": {},
   "source": [
    "3.Write a python program to convert the given list of integers into a tuple of strings. Use map and lambda functions.\n",
    "        Given String: [1, 2, 3, 4, 5, 6, 7, 8, 9, 10]\n",
    "        Expected output: ('1', '2', '3', '4', '5', '6', '7', '8', '9', '10')"
   ]
  },
  {
   "cell_type": "code",
   "execution_count": 4,
   "id": "69b45d85-7961-461b-88f6-64508565a48b",
   "metadata": {},
   "outputs": [
    {
     "name": "stdout",
     "output_type": "stream",
     "text": [
      "('1', '2', '3', '4', '5', '6', '7', '8', '9', '10')\n"
     ]
    }
   ],
   "source": [
    "numbers = [1, 2, 3, 4, 5, 6, 7, 8, 9, 10]\n",
    "\n",
    "string_numbers = tuple(map(lambda x: str(x), numbers))\n",
    "\n",
    "print(string_numbers)"
   ]
  },
  {
   "cell_type": "markdown",
   "id": "dd73e68c-6042-4e1f-b332-9c246ebb618a",
   "metadata": {},
   "source": [
    "4.Write a python program using reduce function to compute the product of a list containing numbers from 1 to 25."
   ]
  },
  {
   "cell_type": "code",
   "execution_count": 6,
   "id": "c1d22f82-6fcb-49b9-b79a-3b7dbb1f2ff0",
   "metadata": {},
   "outputs": [
    {
     "name": "stdout",
     "output_type": "stream",
     "text": [
      "15511210043330985984000000\n"
     ]
    }
   ],
   "source": [
    "from functools import reduce\n",
    "\n",
    "numbers = range(1, 26)\n",
    "\n",
    "product = reduce(lambda x, y: x * y, numbers)\n",
    "\n",
    "print(product)"
   ]
  },
  {
   "cell_type": "markdown",
   "id": "a7864881-153f-47a7-842a-5e1e7defc137",
   "metadata": {},
   "source": [
    "5.Write a python program to filter the numbers in a given list that are divisible by 2 and 3 using the filter function.\n",
    "        [2, 3, 6, 9, 27, 60, 90, 120, 55, 46]"
   ]
  },
  {
   "cell_type": "code",
   "execution_count": 5,
   "id": "e7f7c818-f5d9-4efe-abcf-72999967b4ee",
   "metadata": {},
   "outputs": [
    {
     "name": "stdout",
     "output_type": "stream",
     "text": [
      "[6, 60, 90, 120]\n"
     ]
    }
   ],
   "source": [
    "numbers = [2, 3, 6, 9, 27, 60, 90, 120, 55, 46]\n",
    "\n",
    "filtered_numbers = list(filter(lambda x: x % 2 == 0 and x % 3 == 0, numbers))\n",
    "\n",
    "print(filtered_numbers)"
   ]
  },
  {
   "cell_type": "markdown",
   "id": "54f3b494",
   "metadata": {},
   "source": [
    "6.Write a python program to find palindromes in the given list of strings using lambda and filter\n",
    "function."
   ]
  },
  {
   "cell_type": "code",
   "execution_count": 7,
   "id": "3b124b88",
   "metadata": {},
   "outputs": [
    {
     "name": "stdout",
     "output_type": "stream",
     "text": [
      "Palindromes in the list: ['php', 'aba', 'radar', 'level']\n"
     ]
    }
   ],
   "source": [
    "strings = ['python', 'php', 'aba', 'radar', 'level']\n",
    "\n",
    "is_palindrome = lambda s: s == s[::-1]\n",
    "\n",
    "palindromes = list(filter(is_palindrome, strings))\n",
    "\n",
    "print(\"Palindromes in the list:\", palindromes)"
   ]
  },
  {
   "cell_type": "code",
   "execution_count": null,
   "id": "71bad7f1",
   "metadata": {},
   "outputs": [],
   "source": []
  }
 ],
 "metadata": {
  "kernelspec": {
   "display_name": "Python 3 (ipykernel)",
   "language": "python",
   "name": "python3"
  },
  "language_info": {
   "codemirror_mode": {
    "name": "ipython",
    "version": 3
   },
   "file_extension": ".py",
   "mimetype": "text/x-python",
   "name": "python",
   "nbconvert_exporter": "python",
   "pygments_lexer": "ipython3",
   "version": "3.11.5"
  }
 },
 "nbformat": 4,
 "nbformat_minor": 5
}

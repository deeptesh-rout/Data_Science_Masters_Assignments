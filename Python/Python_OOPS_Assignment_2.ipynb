{
 "cells": [
  {
   "cell_type": "markdown",
   "id": "612fed8d-1edb-4fb8-b06a-da5c261e9754",
   "metadata": {},
   "source": [
    "Q1.Explain Class and Object with respect to Object-Oriented Programming. Give a suitable example."
   ]
  },
  {
   "cell_type": "markdown",
   "id": "9dddd241-a346-46c3-a5e6-a42ad94f6e75",
   "metadata": {},
   "source": [
    "    A class is a blueprint or a template for creating objects, while an object is an instance of a class. Classes define the properties (attributes) and behaviors (methods) that objects of that class will have."
   ]
  },
  {
   "cell_type": "markdown",
   "id": "df5d5623-8fbb-4b6e-b737-826e829f7542",
   "metadata": {},
   "source": [
    "Here's an example of how the Car class could be implemented in Python:"
   ]
  },
  {
   "cell_type": "code",
   "execution_count": 37,
   "id": "70b191c9-f487-4dd1-a2d7-7a2ccab5d86d",
   "metadata": {},
   "outputs": [],
   "source": [
    "class car:\n",
    "    \n",
    "    def __init__(self, color, model):\n",
    "        self.color = color\n",
    "        self.model = model\n",
    "        self.speed = 0\n",
    "        \n",
    "    def start(self):\n",
    "        print(\"Car started\")\n",
    "        \n",
    "    def stop(self):\n",
    "        print(\"Car stopped\")\n",
    "        \n",
    "    def accelerate(self, increment):\n",
    "        self.speed += increment\n",
    "        print(\"Car accelerated. Current speed : \",self.speed)\n",
    "        \n",
    "    def brake(self, decrement):\n",
    "        self.speed -= decrement\n",
    "        print(\"Car braked. Current speed : \",self.speed)\n",
    "        "
   ]
  },
  {
   "cell_type": "code",
   "execution_count": 38,
   "id": "6b5ae3f2-afac-4333-b74e-197f30d8f978",
   "metadata": {},
   "outputs": [],
   "source": [
    "my_car = car(\"Red\",\"Seaden\")"
   ]
  },
  {
   "cell_type": "code",
   "execution_count": 39,
   "id": "f075fa90-2e57-4382-9e0d-6c3063144bf1",
   "metadata": {},
   "outputs": [
    {
     "data": {
      "text/plain": [
       "'Red'"
      ]
     },
     "execution_count": 39,
     "metadata": {},
     "output_type": "execute_result"
    }
   ],
   "source": [
    "my_car.color"
   ]
  },
  {
   "cell_type": "code",
   "execution_count": 40,
   "id": "d0d30ab5-cecd-479c-8fc2-0627eac2489e",
   "metadata": {},
   "outputs": [
    {
     "data": {
      "text/plain": [
       "'Seaden'"
      ]
     },
     "execution_count": 40,
     "metadata": {},
     "output_type": "execute_result"
    }
   ],
   "source": [
    "my_car.model"
   ]
  },
  {
   "cell_type": "code",
   "execution_count": 41,
   "id": "fa2c6562-8bc6-427e-8003-4e02db9131fa",
   "metadata": {},
   "outputs": [
    {
     "name": "stdout",
     "output_type": "stream",
     "text": [
      "Car started\n"
     ]
    }
   ],
   "source": [
    "my_car.start()"
   ]
  },
  {
   "cell_type": "code",
   "execution_count": 42,
   "id": "e4c32bdb-153f-4bf0-aae8-06c7240cd239",
   "metadata": {},
   "outputs": [
    {
     "name": "stdout",
     "output_type": "stream",
     "text": [
      "Car accelerated. Current speed :  60\n"
     ]
    }
   ],
   "source": [
    "my_car.accelerate(60)"
   ]
  },
  {
   "cell_type": "code",
   "execution_count": 43,
   "id": "8cfdb9ce-b044-4374-97fd-2e485d26583c",
   "metadata": {},
   "outputs": [
    {
     "name": "stdout",
     "output_type": "stream",
     "text": [
      "Car braked. Current speed :  30\n"
     ]
    }
   ],
   "source": [
    "my_car.brake(30)"
   ]
  },
  {
   "cell_type": "code",
   "execution_count": 44,
   "id": "f8eb9ede-5093-43f1-a934-f434b770aa65",
   "metadata": {},
   "outputs": [
    {
     "name": "stdout",
     "output_type": "stream",
     "text": [
      "Car stopped\n"
     ]
    }
   ],
   "source": [
    "my_car.stop()"
   ]
  },
  {
   "cell_type": "code",
   "execution_count": null,
   "id": "5176e1a2-ba46-4579-8811-a478e113c8ed",
   "metadata": {},
   "outputs": [],
   "source": []
  },
  {
   "cell_type": "markdown",
   "id": "fda76e28-52db-48d1-8237-9bf651ba4664",
   "metadata": {},
   "source": [
    "Q2. Name the four pillars of OOPs."
   ]
  },
  {
   "cell_type": "markdown",
   "id": "273929a5-132a-407d-bf90-93187e984251",
   "metadata": {},
   "source": [
    "The four pillars of object-oriented programming (OOP) are:\n",
    "\n",
    "Encapsulation: Encapsulation refers to the bundling of data and methods (or functions) that operate on that data into a single unit called a class. It allows for data hiding and abstraction, ensuring that the internal workings and implementation details of an object are hidden from the outside world. Encapsulation helps in organizing code and promoting code reusability.\n",
    "\n",
    "Inheritance: Inheritance is a mechanism that allows a class to inherit properties and behaviors from another class. The class that is being inherited from is called the superclass or base class, and the class that inherits from it is called the subclass or derived class. Inheritance promotes code reuse and supports the concept of hierarchical classification, where classes can be organized in a parent-child relationship.\n",
    "\n",
    "Polymorphism: Polymorphism means the ability of an object to take on different forms or exhibit different behaviors based on the context in which it is used. It allows objects of different classes that are related through inheritance to be treated as objects of a common superclass. Polymorphism enables the flexibility to use different objects interchangeably, simplifying code and making it more adaptable to changes.\n",
    "\n",
    "Abstraction: Abstraction involves representing complex real-world entities as simplified models within the code. It focuses on capturing the essential features and behavior of an object while hiding the unnecessary details. Abstraction allows programmers to create abstract classes and interfaces that define common attributes and methods that can be shared by multiple related classes. It helps in managing complexity, improving code maintainability, and promoting code reusability."
   ]
  },
  {
   "cell_type": "code",
   "execution_count": null,
   "id": "93e7ebd4-3b85-4f3f-a0da-c3de59322de1",
   "metadata": {},
   "outputs": [],
   "source": []
  },
  {
   "cell_type": "markdown",
   "id": "aa316b8e-f72c-418f-9245-0d3a0f137600",
   "metadata": {},
   "source": [
    "Q3. Explain why the __init__() function is used. Give a suitable example."
   ]
  },
  {
   "cell_type": "markdown",
   "id": "7893a998-6c0e-42d7-96b1-13c6dcc41a41",
   "metadata": {},
   "source": [
    "The __init__() function, also known as the constructor, is a special method in object-oriented programming languages like Python. It is automatically called when an object is created from a class. The primary purpose of the __init__() function is to initialize the attributes (properties) of an object with the values provided during object creation."
   ]
  },
  {
   "cell_type": "markdown",
   "id": "057cceec-a031-4c3b-8866-07c72edf00ce",
   "metadata": {},
   "source": [
    "Here's an example to illustrate the use of the __init__() function:"
   ]
  },
  {
   "cell_type": "code",
   "execution_count": 46,
   "id": "640f344c-6bff-4cd8-a023-2c5c2936e087",
   "metadata": {},
   "outputs": [],
   "source": [
    "class person:\n",
    "    def __init__(self, name, age):\n",
    "        self.name = name\n",
    "        self.age = age\n",
    "        \n",
    "    def introduce(self):\n",
    "        print(f\"Hello, my name is {self.name} and i am {self.age} years old.\")"
   ]
  },
  {
   "cell_type": "code",
   "execution_count": 47,
   "id": "192cae25-e9e4-43a2-b666-09c48e567640",
   "metadata": {},
   "outputs": [],
   "source": [
    "person1 = person(\"ganesh\", 21)"
   ]
  },
  {
   "cell_type": "code",
   "execution_count": 48,
   "id": "9415e63a-4ed1-4f00-b1d3-3ac578fcc22d",
   "metadata": {},
   "outputs": [
    {
     "name": "stdout",
     "output_type": "stream",
     "text": [
      "Hello, my name is ganesh and i am 21 years old.\n"
     ]
    }
   ],
   "source": [
    "person1.introduce()"
   ]
  },
  {
   "cell_type": "code",
   "execution_count": null,
   "id": "15362219-d2ba-45a4-b242-02c243c199a9",
   "metadata": {},
   "outputs": [],
   "source": []
  },
  {
   "cell_type": "markdown",
   "id": "2a2dcba0-14e7-4425-8434-92d22e54069d",
   "metadata": {},
   "source": [
    "Q4. Why self is used in OOPs?"
   ]
  },
  {
   "cell_type": "markdown",
   "id": "777be78e-a52b-47aa-98c3-780823b8e23b",
   "metadata": {},
   "source": [
    "In object-oriented programming (OOP), self is a conventionally used parameter name that refers to the instance of a class. It is a reference to the current object being accessed or manipulated within a class's methods. The purpose of self is to differentiate between instance variables (attributes) and local variables within the scope of a class.\n",
    "It is used for:\n",
    "1. Instance Referencing\n",
    "2. Method Invocation\n",
    "3. ttribute Assignment\n",
    "4. Method Chaining"
   ]
  },
  {
   "cell_type": "code",
   "execution_count": null,
   "id": "b11486a5-995a-4f85-b5c5-f0182fa07588",
   "metadata": {},
   "outputs": [],
   "source": []
  },
  {
   "cell_type": "markdown",
   "id": "dab8a3c2-4db3-4cfc-a0cc-b8c9b559d62a",
   "metadata": {},
   "source": [
    "Q5. What is inheritance? Give an example for each type of inheritance."
   ]
  },
  {
   "cell_type": "markdown",
   "id": "c8a0eb34-4e67-4def-a863-5ca043f0f16a",
   "metadata": {},
   "source": [
    "Inheritance is a fundamental concept in object-oriented programming (OOP) that allows a class to inherit properties and behaviors from another class. The class that is being inherited from is called the superclass or base class, and the class that inherits from it is called the subclass or derived class. Inheritance promotes code reuse and supports the concept of hierarchical classification, where classes can be organized in a parent-child relationship.\n",
    "\n",
    "There are several types of inheritance, including:\n",
    "\n",
    "1. Single Inheritance: Single inheritance is when a subclass inherits from a single superclass. The subclass inherits all the attributes and methods of the superclass. It forms a simple parent-child relationship between two classes.\n",
    "\n",
    "    Example:"
   ]
  },
  {
   "cell_type": "code",
   "execution_count": 2,
   "id": "b2537da7-9907-4f3d-a1d1-93566b7a253a",
   "metadata": {},
   "outputs": [],
   "source": [
    "class vehicle :\n",
    "    def __init__(self,name):\n",
    "        self.name = name\n",
    "        \n",
    "    def drive(self):\n",
    "        print(self.name, \" is being driven.\")\n",
    "        \n",
    "class car(vehicle):\n",
    "    def __init__(self, name):\n",
    "        super().__init__(name)\n",
    "        \n",
    "    def accelerate(self):\n",
    "        print(self.name, \" is accelerating.\")"
   ]
  },
  {
   "cell_type": "code",
   "execution_count": 3,
   "id": "283f297a-40e0-475a-8391-fd71b44ab1f2",
   "metadata": {},
   "outputs": [],
   "source": [
    "my_car1 = car(\"Toyota\")"
   ]
  },
  {
   "cell_type": "code",
   "execution_count": 4,
   "id": "ee27ee70-09f6-4441-9466-3bc045d12b9f",
   "metadata": {},
   "outputs": [
    {
     "data": {
      "text/plain": [
       "'Toyota'"
      ]
     },
     "execution_count": 4,
     "metadata": {},
     "output_type": "execute_result"
    }
   ],
   "source": [
    "my_car1.name"
   ]
  },
  {
   "cell_type": "code",
   "execution_count": 5,
   "id": "4e1300bd-9260-46ac-9116-34b7fa4444a9",
   "metadata": {},
   "outputs": [
    {
     "name": "stdout",
     "output_type": "stream",
     "text": [
      "Toyota  is being driven.\n"
     ]
    }
   ],
   "source": [
    "my_car1.drive()"
   ]
  },
  {
   "cell_type": "code",
   "execution_count": 6,
   "id": "1c6d41b9-37c4-457c-9376-9f1c09c4f295",
   "metadata": {},
   "outputs": [
    {
     "name": "stdout",
     "output_type": "stream",
     "text": [
      "Toyota  is accelerating.\n"
     ]
    }
   ],
   "source": [
    "my_car1.accelerate()"
   ]
  },
  {
   "cell_type": "markdown",
   "id": "232536e5-0578-4bb5-a59e-3c3be10062cf",
   "metadata": {},
   "source": [
    "2. Multiple Inheritance: Multiple inheritance is when a subclass inherits from multiple superclasses. The subclass inherits attributes and methods from all the superclasses. This allows the subclass to combine features from different classes.\n",
    "    \n",
    "    Example:"
   ]
  },
  {
   "cell_type": "code",
   "execution_count": 26,
   "id": "bf0a8957-a96a-40a3-a709-29c0cf96e7e2",
   "metadata": {},
   "outputs": [],
   "source": [
    "class animal:\n",
    "    \n",
    "    def __init__(self,name):\n",
    "        self.name = name\n",
    "        \n",
    "    def eat(self):\n",
    "        print(self.name,\"is eating\")\n",
    "        \n",
    "class flyable:\n",
    "    \n",
    "    def fly(self):\n",
    "        print(\"Flying...\")\n",
    "        \n",
    "class bird(animal, flyable):\n",
    "    def __init__(self, name):\n",
    "        super().__init__(name)"
   ]
  },
  {
   "cell_type": "code",
   "execution_count": 28,
   "id": "77e3c2d1-dd3b-47b9-9570-ef3753df0630",
   "metadata": {},
   "outputs": [],
   "source": [
    "bird = bird(\"bird\")"
   ]
  },
  {
   "cell_type": "code",
   "execution_count": 29,
   "id": "95771fb3-031a-4157-b9c0-f9f282c0ce7f",
   "metadata": {},
   "outputs": [
    {
     "name": "stdout",
     "output_type": "stream",
     "text": [
      "bird is eating\n"
     ]
    }
   ],
   "source": [
    "bird.eat()"
   ]
  },
  {
   "cell_type": "code",
   "execution_count": 30,
   "id": "bf55312a-b57a-45f9-9a8b-503953cb552b",
   "metadata": {},
   "outputs": [
    {
     "name": "stdout",
     "output_type": "stream",
     "text": [
      "Flying...\n"
     ]
    }
   ],
   "source": [
    "bird.fly()"
   ]
  },
  {
   "cell_type": "markdown",
   "id": "9e1db42c-be47-4270-8322-751edf60666d",
   "metadata": {},
   "source": [
    "3. Multilevel Inheritance: Multilevel inheritance is when a subclass inherits from another subclass. It forms a chain of inheritance where one class inherits from another, and that class can further be inherited by another class.\n",
    "\n",
    "    Example:"
   ]
  },
  {
   "cell_type": "code",
   "execution_count": 7,
   "id": "6b5bc6e7-5950-452a-ac8a-01ca597850e7",
   "metadata": {},
   "outputs": [],
   "source": [
    "class animal:\n",
    "    \n",
    "    def __init__(self, name):\n",
    "        self.name = name\n",
    "        \n",
    "    def eat(self):\n",
    "        print(self.name,\"is eating.\")\n",
    "        \n",
    "class mammal(animal):\n",
    "    \n",
    "    def walk(self):\n",
    "        print(self.name,\"is walking.\")\n",
    "        \n",
    "class dog(mammal):\n",
    "    \n",
    "    def bark(self):\n",
    "        print(self.name,\"is barking\")"
   ]
  },
  {
   "cell_type": "code",
   "execution_count": 8,
   "id": "9f0cb70b-c1ef-44b5-86a0-44d25c7f6855",
   "metadata": {},
   "outputs": [],
   "source": [
    "dog = dog(\"Buddy\")"
   ]
  },
  {
   "cell_type": "code",
   "execution_count": 9,
   "id": "c5891eda-b45d-4c35-bac1-4bebd638a5d9",
   "metadata": {},
   "outputs": [
    {
     "name": "stdout",
     "output_type": "stream",
     "text": [
      "Buddy is eating.\n"
     ]
    }
   ],
   "source": [
    "dog.eat()"
   ]
  },
  {
   "cell_type": "code",
   "execution_count": 10,
   "id": "1f6d209c-9bf5-4f84-b994-7f49ea725ec4",
   "metadata": {},
   "outputs": [
    {
     "name": "stdout",
     "output_type": "stream",
     "text": [
      "Buddy is walking.\n"
     ]
    }
   ],
   "source": [
    "dog.walk()"
   ]
  },
  {
   "cell_type": "code",
   "execution_count": 11,
   "id": "530546ea-0b8a-4253-93c9-f08565c00f64",
   "metadata": {},
   "outputs": [
    {
     "name": "stdout",
     "output_type": "stream",
     "text": [
      "Buddy is barking\n"
     ]
    }
   ],
   "source": [
    "dog.bark()"
   ]
  },
  {
   "cell_type": "markdown",
   "id": "1fc8166b-f7f4-4e24-b455-7305db277452",
   "metadata": {},
   "source": [
    "4. Hierarchical inheritance: When we derive or inherit more than one child class from one(same) parent class. Then this type of inheritance is called hierarchical inheritance.\n",
    "\n",
    "    Example:"
   ]
  },
  {
   "cell_type": "code",
   "execution_count": 1,
   "id": "8a50a94f-73c6-401e-9f71-a788846946bd",
   "metadata": {},
   "outputs": [],
   "source": [
    "class Animal:\n",
    "    def speak(self):\n",
    "        print(\"Animal speaks.\")\n",
    "        \n",
    "class Dog(Animal):\n",
    "    def bark(self):\n",
    "        print(\"Dog barks.\")\n",
    "        \n",
    "class Cat(Animal):\n",
    "    def meow(self):\n",
    "        print(\"Cat meows.\")"
   ]
  },
  {
   "cell_type": "code",
   "execution_count": 2,
   "id": "39e158cb-a552-4901-a24e-aaa0695d3933",
   "metadata": {},
   "outputs": [],
   "source": [
    "dog = Dog()"
   ]
  },
  {
   "cell_type": "code",
   "execution_count": 3,
   "id": "b82a1531-3da2-4015-a731-7b83c3547392",
   "metadata": {},
   "outputs": [
    {
     "name": "stdout",
     "output_type": "stream",
     "text": [
      "Animal speaks.\n"
     ]
    }
   ],
   "source": [
    "dog.speak()"
   ]
  },
  {
   "cell_type": "code",
   "execution_count": 4,
   "id": "66fa93ee-d12c-4816-aa3a-bf2b47e55adf",
   "metadata": {},
   "outputs": [
    {
     "name": "stdout",
     "output_type": "stream",
     "text": [
      "Dog barks.\n"
     ]
    }
   ],
   "source": [
    "dog.bark()"
   ]
  },
  {
   "cell_type": "code",
   "execution_count": 5,
   "id": "7be539b1-8851-4448-b452-1c03e6c0c1e2",
   "metadata": {},
   "outputs": [],
   "source": [
    "cat = Cat()"
   ]
  },
  {
   "cell_type": "code",
   "execution_count": 6,
   "id": "22f9acaf-3715-4aee-9a36-5c945aab0bbe",
   "metadata": {},
   "outputs": [
    {
     "name": "stdout",
     "output_type": "stream",
     "text": [
      "Animal speaks.\n"
     ]
    }
   ],
   "source": [
    "cat.speak()"
   ]
  },
  {
   "cell_type": "code",
   "execution_count": 7,
   "id": "cb8e7fe4-462d-417e-86be-d07482185f4e",
   "metadata": {},
   "outputs": [
    {
     "name": "stdout",
     "output_type": "stream",
     "text": [
      "Cat meows.\n"
     ]
    }
   ],
   "source": [
    "cat.meow()"
   ]
  },
  {
   "cell_type": "markdown",
   "id": "fec85f07-9b67-49cd-ad8f-baa263eeba6b",
   "metadata": {},
   "source": [
    "5. Hybrid Inheritance: Hybrid inheritance satisfies more than one form of inheritance ie. It may be consists of all types of inheritance. It is not wrong if we say Hybrid Inheritance is the combinations of simple, multiple, multilevel and hierarchical inheritance. This type of inheritance is very helpful if we want to use concepts of inheritance without any limitations according to our requirements.\n",
    "\n",
    "    Example:"
   ]
  },
  {
   "cell_type": "code",
   "execution_count": 8,
   "id": "9f1f05f8-a63a-419e-9f7d-af3415e082d6",
   "metadata": {},
   "outputs": [],
   "source": [
    "class Animal:\n",
    "    def speak(self):\n",
    "        print(\"Animal speaks.\")\n",
    "        \n",
    "class Mammal(Animal):\n",
    "    def feed_milk(self):\n",
    "        print(\"Mammal feeds milk.\")\n",
    "        \n",
    "class Reptile(Animal):\n",
    "    def lay_eggs(self):\n",
    "        print(\"Reptile lays eggs.\")\n",
    "        \n",
    "class Platypus(Mammal, Reptile):\n",
    "    pass"
   ]
  },
  {
   "cell_type": "code",
   "execution_count": 9,
   "id": "33b677cf-a6d8-4b40-a654-f5a71bc6bd54",
   "metadata": {},
   "outputs": [],
   "source": [
    "platypus = Platypus()"
   ]
  },
  {
   "cell_type": "code",
   "execution_count": 10,
   "id": "747def9d-8b7a-4b81-b633-340e38ebbe04",
   "metadata": {},
   "outputs": [
    {
     "name": "stdout",
     "output_type": "stream",
     "text": [
      "Animal speaks.\n"
     ]
    }
   ],
   "source": [
    "platypus.speak()"
   ]
  },
  {
   "cell_type": "code",
   "execution_count": 11,
   "id": "720747e3-ab0c-4f7c-9940-0db637a6c120",
   "metadata": {},
   "outputs": [
    {
     "name": "stdout",
     "output_type": "stream",
     "text": [
      "Mammal feeds milk.\n"
     ]
    }
   ],
   "source": [
    "platypus.feed_milk()"
   ]
  },
  {
   "cell_type": "code",
   "execution_count": 12,
   "id": "74b16fec-bbf0-42f4-83e8-28b4f8ce2772",
   "metadata": {},
   "outputs": [
    {
     "name": "stdout",
     "output_type": "stream",
     "text": [
      "Reptile lays eggs.\n"
     ]
    }
   ],
   "source": [
    "platypus.lay_eggs()"
   ]
  },
  {
   "cell_type": "code",
   "execution_count": null,
   "id": "da57ed52-ce07-4fba-bf2d-ec4d40017675",
   "metadata": {},
   "outputs": [],
   "source": []
  }
 ],
 "metadata": {
  "kernelspec": {
   "display_name": "Python 3 (ipykernel)",
   "language": "python",
   "name": "python3"
  },
  "language_info": {
   "codemirror_mode": {
    "name": "ipython",
    "version": 3
   },
   "file_extension": ".py",
   "mimetype": "text/x-python",
   "name": "python",
   "nbconvert_exporter": "python",
   "pygments_lexer": "ipython3",
   "version": "3.10.8"
  }
 },
 "nbformat": 4,
 "nbformat_minor": 5
}

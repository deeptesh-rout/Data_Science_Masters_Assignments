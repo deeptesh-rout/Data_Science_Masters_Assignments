{
 "cells": [
  {
   "cell_type": "markdown",
   "id": "a33d726d-8326-484f-9e82-5aee3966beb6",
   "metadata": {},
   "source": [
    "Q1. What is Abstraction in OOps? Explain with an example."
   ]
  },
  {
   "cell_type": "markdown",
   "id": "7898954c-f4a7-4cef-8c94-9ccaf68edeb1",
   "metadata": {},
   "source": [
    "In object-oriented programming (OOP), abstraction refers to the process of simplifying complex systems by focusing on the essential features and ignoring unnecessary details. It is a fundamental concept that allows programmers to create models of real-world objects or systems as classes, with each class encapsulating both the data (attributes) and behaviors (methods) of those objects.\n",
    "\n",
    "Example :"
   ]
  },
  {
   "cell_type": "code",
   "execution_count": 19,
   "id": "b760f859-c9a1-441e-b0ce-e35a2734993b",
   "metadata": {},
   "outputs": [],
   "source": [
    "class Car:\n",
    "    def __init__(self,make, model, year):\n",
    "        self.make = make\n",
    "        self.model = model\n",
    "        self.year = year\n",
    "        self.speed = 0\n",
    "        \n",
    "    def accelerate(self, speed_increase):\n",
    "        self.speed += speed_increase\n",
    "        print(\"Current speed : \",self.speed)\n",
    "        \n",
    "    def brake(self,speed_decrese):\n",
    "        self.speed -= speed_decrese\n",
    "        print(\"Current speed : \",self.speed)\n",
    "        \n",
    "    def get_speed(self):\n",
    "        return self.speed"
   ]
  },
  {
   "cell_type": "code",
   "execution_count": 15,
   "id": "6cee0dd2-c6c0-40b0-aaec-6c60ef188627",
   "metadata": {},
   "outputs": [],
   "source": [
    "brezza = Car(\"suzuki\",\"SUV\",2020)"
   ]
  },
  {
   "cell_type": "code",
   "execution_count": 16,
   "id": "a950df29-87bc-46c7-80d7-de7fc9585d14",
   "metadata": {},
   "outputs": [
    {
     "name": "stdout",
     "output_type": "stream",
     "text": [
      "Current speed :  40\n"
     ]
    }
   ],
   "source": [
    "brezza.accelerate(40)"
   ]
  },
  {
   "cell_type": "code",
   "execution_count": 17,
   "id": "e5da9e0f-595b-455c-a72d-8220207a6bf3",
   "metadata": {},
   "outputs": [
    {
     "name": "stdout",
     "output_type": "stream",
     "text": [
      "Current speed :  25\n"
     ]
    }
   ],
   "source": [
    "brezza.brake(15)"
   ]
  },
  {
   "cell_type": "code",
   "execution_count": 20,
   "id": "de9c6111-cfe6-4b95-bc79-009e3a397df2",
   "metadata": {},
   "outputs": [
    {
     "data": {
      "text/plain": [
       "('Current speed : ', 25)"
      ]
     },
     "execution_count": 20,
     "metadata": {},
     "output_type": "execute_result"
    }
   ],
   "source": [
    "brezza.get_speed()"
   ]
  },
  {
   "cell_type": "markdown",
   "id": "85b3fd10-95b1-4fc6-823b-29e185f0e554",
   "metadata": {},
   "source": [
    "Q2. Differentiate between Abstraction and Encapsulation. Explain with an example."
   ]
  },
  {
   "cell_type": "markdown",
   "id": "a2450471-8afb-4768-880f-bca94189034f",
   "metadata": {},
   "source": [
    "Abstraction refers to the process of simplifying complex systems by focusing on the essential features and ignoring unnecessary details. It involves representing the relevant characteristics of an object or system without getting into the specifics of how those characteristics are implemented."
   ]
  },
  {
   "cell_type": "markdown",
   "id": "ae91f12d-19e1-4d7f-b372-d4e36d19e2df",
   "metadata": {},
   "source": [
    "Encapsulation, on the other hand, is a mechanism that binds together the data (attributes) and methods (behaviors) that manipulate that data into a single unit called a class. It is the practice of hiding the internal details and providing a public interface to interact with the object. "
   ]
  },
  {
   "cell_type": "markdown",
   "id": "8cf70363-fb83-4e6b-bf31-436f357d917c",
   "metadata": {},
   "source": [
    "To illustrate the difference between abstraction and encapsulation, let's consider an example of a BankAccount class:"
   ]
  },
  {
   "cell_type": "code",
   "execution_count": 24,
   "id": "07c3a41a-581f-4d07-8505-68ddb3ec93e8",
   "metadata": {},
   "outputs": [],
   "source": [
    "class BankAccount:\n",
    "    def __init__(self, account_number, balance):\n",
    "        self.account_number = account_number\n",
    "        self.balance = balance\n",
    "        \n",
    "    def deposit(self, amount):\n",
    "        self.balance += amount\n",
    "        print(\"Balance : \",self.balance)\n",
    "\n",
    "    def withdraw(self, amount):\n",
    "        if self.balance >= amount:\n",
    "            self.balance -= amount\n",
    "            print(\"Balance : \",self.balance)\n",
    "        else:\n",
    "            print(\"Insufficient balance.\")\n",
    "\n",
    "    def get_balance(self):\n",
    "        return self.balance\n"
   ]
  },
  {
   "cell_type": "markdown",
   "id": "e989ca4a-06e7-4780-a768-24c4cdc30578",
   "metadata": {},
   "source": [
    "In this example, abstraction is evident as we simplify a bank account to its essential features: account number and balance. We ignore the intricate details of how the bank manages transactions, account security, and interest calculations.\n",
    "\n",
    "Encapsulation is demonstrated through the class methods and attributes. The data (account_number and balance) is encapsulated within the class, and external code cannot directly access or modify these attributes. Instead, the class provides public methods like deposit, withdraw, and get_balance to interact with and manipulate the object's internal state."
   ]
  },
  {
   "cell_type": "code",
   "execution_count": 25,
   "id": "14fff75b-d6eb-46c9-ba8b-9519c190946d",
   "metadata": {},
   "outputs": [],
   "source": [
    "acc1 = BankAccount(2423,2000)"
   ]
  },
  {
   "cell_type": "code",
   "execution_count": 26,
   "id": "516c206c-3afc-46a0-91f8-4c560609294b",
   "metadata": {},
   "outputs": [
    {
     "name": "stdout",
     "output_type": "stream",
     "text": [
      "Balance :  5000\n"
     ]
    }
   ],
   "source": [
    "acc1.deposit(3000)"
   ]
  },
  {
   "cell_type": "code",
   "execution_count": 27,
   "id": "14da81a6-0593-4324-a9e2-23a0725ba970",
   "metadata": {},
   "outputs": [
    {
     "name": "stdout",
     "output_type": "stream",
     "text": [
      "Balance :  2500\n"
     ]
    }
   ],
   "source": [
    "acc1.withdraw(2500)"
   ]
  },
  {
   "cell_type": "code",
   "execution_count": 28,
   "id": "40b5dfc4-3bbd-4ca7-ac81-7cf0f90461b3",
   "metadata": {},
   "outputs": [
    {
     "data": {
      "text/plain": [
       "2500"
      ]
     },
     "execution_count": 28,
     "metadata": {},
     "output_type": "execute_result"
    }
   ],
   "source": [
    "acc1.get_balance()"
   ]
  },
  {
   "cell_type": "markdown",
   "id": "ccf3b652-8e7f-4860-bf2b-798af3ab8011",
   "metadata": {},
   "source": [
    "Q3. What is abc module in python? Why is it used?"
   ]
  },
  {
   "cell_type": "markdown",
   "id": "2554d688-6026-4a00-9f63-b18f6c805118",
   "metadata": {},
   "source": [
    "The abc module in Python stands for \"Abstract Base Classes.\" It provides mechanisms to define abstract base classes in Python. An abstract base class (ABC) is a class that cannot be instantiated directly but serves as a blueprint for its subclasses. It defines a common interface and structure that its subclasses should adhere to.\n",
    "\n",
    "The abc module is used to create abstract base classes by utilizing the ABC class and the abstractmethod decorator."
   ]
  },
  {
   "cell_type": "markdown",
   "id": "7d5f229f-e948-4e82-9d46-35fee8994880",
   "metadata": {},
   "source": [
    "The abc module and abstract base classes are used for several reasons:\n",
    "\n",
    "1. Defining common interfaces.\n",
    "2. Enforcing subclass implementation.\n",
    "3. Polymorphism.\n",
    "4. Documentation and clarity."
   ]
  },
  {
   "cell_type": "markdown",
   "id": "29614c6b-3c03-4364-9836-6a16874afe7b",
   "metadata": {},
   "source": [
    "Q4. How can we achieve data abstraction?"
   ]
  },
  {
   "cell_type": "markdown",
   "id": "4cc4d2db-5527-461f-9596-f525927f59a1",
   "metadata": {},
   "source": [
    "Data abstraction in programming is achieved through the use of classes and objects. It involves hiding the internal details and complexities of data and providing a simplified and well-defined interface for interacting with the data.\n",
    "\n",
    "Here are some key steps to achieve data abstraction:\n",
    "\n",
    "1. Identify the data\n",
    "2. Create a class\n",
    "3. Hide internal details\n",
    "4. Provide public methods\n",
    "5. Use the class"
   ]
  },
  {
   "cell_type": "markdown",
   "id": "8cb8cf17-53ce-4d49-af38-e3b801bb7b0a",
   "metadata": {},
   "source": [
    "Q5. Can we create an instance of an abstract class? Explain your answer."
   ]
  },
  {
   "cell_type": "markdown",
   "id": "4049e944-ac32-4eb4-82cb-d137bdf33a39",
   "metadata": {},
   "source": [
    "No, we cannot create an instance of an abstract class in most programming languages, including Python. Abstract classes are meant to be incomplete and serve as blueprints for their subclasses. They define a common interface and structure that subclasses should adhere to, but they cannot be instantiated directly.\n",
    "\n",
    "Attempting to create an instance of an abstract class will typically result in an error or exception being raised. For example, in Python, if you try to instantiate an abstract class that inherits from the abc.ABC class, you'll encounter a TypeError with a message indicating that the abstract class cannot be instantiated."
   ]
  },
  {
   "cell_type": "code",
   "execution_count": null,
   "id": "914ffc3b-8233-4d3b-b400-deaf3afc095e",
   "metadata": {},
   "outputs": [],
   "source": []
  }
 ],
 "metadata": {
  "kernelspec": {
   "display_name": "Python 3 (ipykernel)",
   "language": "python",
   "name": "python3"
  },
  "language_info": {
   "codemirror_mode": {
    "name": "ipython",
    "version": 3
   },
   "file_extension": ".py",
   "mimetype": "text/x-python",
   "name": "python",
   "nbconvert_exporter": "python",
   "pygments_lexer": "ipython3",
   "version": "3.10.8"
  }
 },
 "nbformat": 4,
 "nbformat_minor": 5
}
